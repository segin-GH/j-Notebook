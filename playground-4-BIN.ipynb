{
 "cells": [
  {
   "cell_type": "code",
   "execution_count": 11,
   "id": "6470d066-dc19-432b-a011-d780a252ef08",
   "metadata": {
    "tags": [
     "interactive",
     "cell"
    ]
   },
   "outputs": [],
   "source": [
    "from IPython.core.interactiveshell import InteractiveShell\n",
    "InteractiveShell.ast_node_interactivity = \"all\""
   ]
  },
  {
   "cell_type": "code",
   "execution_count": 12,
   "id": "c39a149d",
   "metadata": {
    "tags": []
   },
   "outputs": [],
   "source": [
    "bit = 0b0001"
   ]
  },
  {
   "cell_type": "code",
   "execution_count": 13,
   "id": "5f5f416d",
   "metadata": {
    "tags": []
   },
   "outputs": [
    {
     "data": {
      "text/plain": [
       "'0b100000'"
      ]
     },
     "execution_count": 13,
     "metadata": {},
     "output_type": "execute_result"
    }
   ],
   "source": [
    "bit =  (1 << 5)\n",
    "bin(bit)"
   ]
  },
  {
   "cell_type": "code",
   "execution_count": 14,
   "id": "94f97415",
   "metadata": {
    "tags": []
   },
   "outputs": [
    {
     "data": {
      "text/plain": [
       "'0b100010'"
      ]
     },
     "execution_count": 14,
     "metadata": {},
     "output_type": "execute_result"
    }
   ],
   "source": [
    "bit = bit | (1 << 1)\n",
    "bin(bit)"
   ]
  },
  {
   "cell_type": "code",
   "execution_count": 15,
   "id": "1afdd5a6",
   "metadata": {
    "tags": []
   },
   "outputs": [
    {
     "data": {
      "text/plain": [
       "'0b111111'"
      ]
     },
     "execution_count": 15,
     "metadata": {},
     "output_type": "execute_result"
    }
   ],
   "source": [
    "bit = bit | 0b111101\n",
    "bin(bit)"
   ]
  },
  {
   "cell_type": "code",
   "execution_count": 16,
   "id": "f4a077a3",
   "metadata": {
    "tags": []
   },
   "outputs": [
    {
     "data": {
      "text/plain": [
       "1"
      ]
     },
     "execution_count": 16,
     "metadata": {},
     "output_type": "execute_result"
    },
    {
     "data": {
      "text/plain": [
       "'0b111111'"
      ]
     },
     "execution_count": 16,
     "metadata": {},
     "output_type": "execute_result"
    }
   ],
   "source": [
    "bit & 0b000001\n",
    "bin(bit)"
   ]
  },
  {
   "cell_type": "code",
   "execution_count": 17,
   "id": "e47cb12c",
   "metadata": {
    "tags": []
   },
   "outputs": [
    {
     "data": {
      "text/plain": [
       "'111111'"
      ]
     },
     "execution_count": 17,
     "metadata": {},
     "output_type": "execute_result"
    }
   ],
   "source": [
    "bin(bit)[2:].zfill(6)"
   ]
  },
  {
   "cell_type": "code",
   "execution_count": null,
   "id": "e0202b85-2611-49fe-93d8-cf46aa087307",
   "metadata": {},
   "outputs": [],
   "source": []
  },
  {
   "cell_type": "code",
   "execution_count": null,
   "id": "cd62e909-5dfe-4f04-ac18-d43060eedf7b",
   "metadata": {},
   "outputs": [],
   "source": []
  }
 ],
 "metadata": {
  "kernelspec": {
   "display_name": "Python 3 (ipykernel)",
   "language": "python",
   "name": "python3"
  },
  "language_info": {
   "codemirror_mode": {
    "name": "ipython",
    "version": 3
   },
   "file_extension": ".py",
   "mimetype": "text/x-python",
   "name": "python",
   "nbconvert_exporter": "python",
   "pygments_lexer": "ipython3",
   "version": "3.10.6"
  }
 },
 "nbformat": 4,
 "nbformat_minor": 5
}
