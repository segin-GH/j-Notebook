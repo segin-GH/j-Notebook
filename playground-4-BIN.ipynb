{
 "cells": [
  {
   "cell_type": "code",
   "execution_count": 44,
   "id": "6470d066-dc19-432b-a011-d780a252ef08",
   "metadata": {
    "tags": [
     "interactive",
     "cell"
    ]
   },
   "outputs": [],
   "source": [
    "from IPython.core.interactiveshell import InteractiveShell\n",
    "InteractiveShell.ast_node_interactivity = \"all\""
   ]
  },
  {
   "cell_type": "code",
   "execution_count": 133,
   "id": "c39a149d",
   "metadata": {},
   "outputs": [],
   "source": [
    "bit = 0b000000 "
   ]
  },
  {
   "cell_type": "code",
   "execution_count": 138,
   "id": "5f5f416d",
   "metadata": {},
   "outputs": [
    {
     "data": {
      "text/plain": [
       "'0b1000000'"
      ]
     },
     "execution_count": 138,
     "metadata": {},
     "output_type": "execute_result"
    }
   ],
   "source": [
    "bit =  (1 << 6)\n",
    "bin(bit)"
   ]
  },
  {
   "cell_type": "code",
   "execution_count": 139,
   "id": "94f97415",
   "metadata": {},
   "outputs": [
    {
     "data": {
      "text/plain": [
       "'0b1000010'"
      ]
     },
     "execution_count": 139,
     "metadata": {},
     "output_type": "execute_result"
    }
   ],
   "source": [
    "bit = bit | (1 << 1)\n",
    "bin(bit)"
   ]
  },
  {
   "cell_type": "code",
   "execution_count": 144,
   "id": "1afdd5a6",
   "metadata": {},
   "outputs": [
    {
     "data": {
      "text/plain": [
       "'0b111101'"
      ]
     },
     "execution_count": 144,
     "metadata": {},
     "output_type": "execute_result"
    }
   ],
   "source": [
    "bit = bit | 0b111101\n",
    "bin(bit)"
   ]
  },
  {
   "cell_type": "code",
   "execution_count": 147,
   "id": "f4a077a3",
   "metadata": {},
   "outputs": [
    {
     "data": {
      "text/plain": [
       "1"
      ]
     },
     "execution_count": 147,
     "metadata": {},
     "output_type": "execute_result"
    },
    {
     "data": {
      "text/plain": [
       "'0b111101'"
      ]
     },
     "execution_count": 147,
     "metadata": {},
     "output_type": "execute_result"
    }
   ],
   "source": [
    "bit & 0b000001\n",
    "bin(bit)"
   ]
  },
  {
   "cell_type": "code",
   "execution_count": null,
   "id": "e47cb12c",
   "metadata": {},
   "outputs": [],
   "source": [
    "bin(bit)[2:].zfill(6)"
   ]
  }
 ],
 "metadata": {
  "kernelspec": {
   "display_name": "Python 3 (ipykernel)",
   "language": "python",
   "name": "python3"
  },
  "language_info": {
   "codemirror_mode": {
    "name": "ipython",
    "version": 3
   },
   "file_extension": ".py",
   "mimetype": "text/x-python",
   "name": "python",
   "nbconvert_exporter": "python",
   "pygments_lexer": "ipython3",
   "version": "3.8.10"
  }
 },
 "nbformat": 4,
 "nbformat_minor": 5
}
